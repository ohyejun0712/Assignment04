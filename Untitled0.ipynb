{
  "nbformat": 4,
  "nbformat_minor": 0,
  "metadata": {
    "colab": {
      "provenance": []
    },
    "kernelspec": {
      "name": "python3",
      "display_name": "Python 3"
    },
    "language_info": {
      "name": "python"
    }
  },
  "cells": [
    {
      "cell_type": "code",
      "execution_count": null,
      "metadata": {
        "id": "Z1qY_NmndBeF"
      },
      "outputs": [],
      "source": []
    },
    {
      "cell_type": "markdown",
      "source": [
        "#1.LeetCode 225. Implement stack using\n",
        "\n",
        "## 문제설명\n",
        "큐(Queue)만을 이용하여 스택(Stack)을 구현하는 문제입니다.  \n",
        "스택은 LIFO(Last-In-First-Out) 구조이며, 큐는 FIFO(First-In-First-Out) 구조입니다.\n",
        ""
      ],
      "metadata": {
        "id": "nxOicQHBdJgC"
      }
    },
    {
      "cell_type": "code",
      "source": [
        "from collections import deque\n",
        "\n",
        "class MyStack:\n",
        "    def __init__(self):\n",
        "        self.q1 = deque()\n",
        "        self.q2 = deque()\n",
        "\n",
        "    def push(self, x: int) -> None:\n",
        "        self.q1.append(x)\n",
        "\n",
        "    def pop(self) -> int:\n",
        "        while len(self.q1) > 1:\n",
        "            self.q2.append(self.q1.popleft())\n",
        "        res = self.q1.popleft()\n",
        "        self.q1, self.q2 = self.q2, self.q1\n",
        "        return res\n",
        "\n",
        "    def top(self) -> int:\n",
        "        while len(self.q1) > 1:\n",
        "            self.q2.append(self.q1.popleft())\n",
        "        res = self.q1.popleft()\n",
        "        self.q2.append(res)\n",
        "        self.q1, self.q2 = self.q2, self.q1\n",
        "        return res\n",
        "\n",
        "    def empty(self) -> bool:\n",
        "        return not self.q1\n"
      ],
      "metadata": {
        "id": "JqZiKDgSecYM"
      },
      "execution_count": null,
      "outputs": []
    },
    {
      "cell_type": "markdown",
      "source": [
        "## 풀이 설명\n",
        "\n",
        "- `push`: 그냥 q1에 append\n",
        "- `pop`: q1에서 마지막 하나 남을 때까지 q2로 옮기고, 마지막 하나를 pop (그게 top)\n",
        "- `top`: `pop`과 비슷하지만 마지막 하나는 다시 q2에 넣어줌\n",
        "- `empty`: q1이 비어있는지 확인\n",
        "\n",
        "이 구조는 매번 가장 마지막에 넣은 값을 빼기 위해 q1 → q2로 옮기는 작업을 합니다.  \n",
        "스택의 LIFO 구조를 큐의 FIFO 구조를 활용해서 구현한 방식입니다!\n"
      ],
      "metadata": {
        "id": "Sf2gM3Zweil_"
      }
    },
    {
      "cell_type": "markdown",
      "source": [
        "# LeetCode 232. Implement Queue using Stacks\n",
        "\n",
        "## 문제 설명\n",
        "스택(Stack)만을 이용하여 큐(Queue)를 구현하는 문제입니다.  \n",
        "큐는 FIFO(First-In-First-Out), 스택은 LIFO(Last-In-First-Out) 구조입니다.\n"
      ],
      "metadata": {
        "id": "XnCTJgQZewkD"
      }
    },
    {
      "cell_type": "code",
      "source": [
        "class MyQueue:\n",
        "    def __init__(self):\n",
        "        self.stack_in = []\n",
        "        self.stack_out = []\n",
        "\n",
        "    def push(self, x: int) -> None:\n",
        "        self.stack_in.append(x)\n",
        "\n",
        "    def pop(self) -> int:\n",
        "        if not self.stack_out:\n",
        "            while self.stack_in:\n",
        "                self.stack_out.append(self.stack_in.pop())\n",
        "        return self.stack_out.pop()\n",
        "\n",
        "    def peek(self) -> int:\n",
        "        if not self.stack_out:\n",
        "            while self.stack_in:\n",
        "                self.stack_out.append(self.stack_in.pop())\n",
        "        return self.stack_out[-1]\n",
        "\n",
        "    def empty(self) -> bool:\n",
        "        return not self.stack_in and not self.stack_out\n"
      ],
      "metadata": {
        "id": "U8SyAzK0fgCs"
      },
      "execution_count": null,
      "outputs": []
    },
    {
      "cell_type": "markdown",
      "source": [
        "## 풀이 설명\n",
        "\n",
        "- `push`: stack_in에 추가 (항상 뒤쪽에 넣음)\n",
        "- `pop`과 `peek`: stack_out이 비었으면, stack_in의 모든 요소를 pop해서 stack_out에 push (순서 뒤집힘)\n",
        "  - 이렇게 하면 stack_out의 top이 큐의 front가 됨\n",
        "- `empty`: 두 스택 모두 비어 있으면 True\n",
        "\n",
        "이 구조는 평균적으로 모든 연산이 O(1)에 가까운 시간 복잡도를 가지는 \"Amortized O(1)\"입니다.\n"
      ],
      "metadata": {
        "id": "HRut9iAmfis5"
      }
    },
    {
      "cell_type": "markdown",
      "source": [],
      "metadata": {
        "id": "oEmDD1ihdHdr"
      }
    },
    {
      "cell_type": "markdown",
      "source": [
        "# Queue01"
      ],
      "metadata": {
        "id": "R3zv7Gbjfud0"
      }
    },
    {
      "cell_type": "code",
      "source": [
        "class ListQueue:\n",
        "    def __init__(self):\n",
        "        self.__queue = []\n",
        "\n",
        "    def enqueue(self, x):\n",
        "        self.__queue.insert(0, x)\n",
        "\n",
        "    def dequeue(self):\n",
        "        return self.__queue.pop()\n",
        "\n",
        "    def front(self):\n",
        "        return self.__queue[-1]\n",
        "\n",
        "    def isEmpty(self) -> bool:\n",
        "        return len(self.__queue) == 0\n",
        "\n",
        "    def dequeueAll(self):\n",
        "        self.__queue.clear()\n"
      ],
      "metadata": {
        "id": "SS4DolQdfy40"
      },
      "execution_count": null,
      "outputs": []
    },
    {
      "cell_type": "markdown",
      "source": [
        "# Queue02"
      ],
      "metadata": {
        "id": "-Y_msUEKguc_"
      }
    },
    {
      "cell_type": "code",
      "source": [
        "from collections import deque\n",
        "\n",
        "def is_in_language(input_str):\n",
        "    q = deque()\n",
        "    i = 0\n",
        "\n",
        "    while i < len(input_str) and input_str[i] != '$':\n",
        "        q.append(input_str[i])\n",
        "        i += 1\n",
        "\n",
        "    if i == 0 or i == len(input_str) - 1 or '$' not in input_str:\n",
        "        return False\n",
        "\n",
        "    i += 1\n",
        "\n",
        "    while i < len(input_str):\n",
        "        if not q or input_str[i] != q.popleft():\n",
        "            return False\n",
        "        i += 1\n",
        "\n",
        "    return not q\n"
      ],
      "metadata": {
        "id": "ObGgjzLMgyUm"
      },
      "execution_count": null,
      "outputs": []
    },
    {
      "cell_type": "markdown",
      "source": [
        "# Queue03"
      ],
      "metadata": {
        "id": "25b9aSV_hBG3"
      }
    },
    {
      "cell_type": "code",
      "source": [
        "class Node:\n",
        "    def __init__(self, item):\n",
        "        self.item = item\n",
        "        self.next = None\n",
        "\n",
        "class LinkedQueue:\n",
        "    def __init__(self):\n",
        "        self.front = None\n",
        "        self.rear = None\n",
        "\n",
        "    def isEmpty(self):\n",
        "        return self.front is None\n",
        "\n",
        "    def enqueue(self, item):\n",
        "        new_node = Node(item)\n",
        "        if self.isEmpty():\n",
        "            self.front = self.rear = new_node\n",
        "        else:\n",
        "            self.rear.next = new_node\n",
        "            self.rear = new_node\n",
        "\n",
        "    def dequeue(self):\n",
        "        if self.isEmpty():\n",
        "            return None\n",
        "        item = self.front.item\n",
        "        self.front = self.front.next\n",
        "        if self.front is None:\n",
        "            self.rear = None\n",
        "        return item\n",
        "\n",
        "    def print_queue(self):\n",
        "        cur = self.front\n",
        "        while cur:\n",
        "            print(cur.item, end=' ')\n",
        "            cur = cur.next\n",
        "        print()\n",
        "\n",
        "def copy_linked_queue(a: LinkedQueue) -> LinkedQueue:\n",
        "    b = LinkedQueue()\n",
        "    current = a.front\n",
        "\n",
        "    while current:\n",
        "        b.enqueue(current.item)\n",
        "        current = current.next\n",
        "\n",
        "    return b\n",
        "\n"
      ],
      "metadata": {
        "id": "Nc_yhK5ihDSh"
      },
      "execution_count": null,
      "outputs": []
    },
    {
      "cell_type": "markdown",
      "source": [
        "# Queue04"
      ],
      "metadata": {
        "id": "LtrtBMVMhoNm"
      }
    },
    {
      "cell_type": "code",
      "source": [
        "class StackUsingQueues:\n",
        "    def __init__(self):\n",
        "        self.q1 = []\n",
        "        self.q2 = []\n",
        "\n",
        "    def push(self, x):\n",
        "        self.q2.append(x)\n",
        "\n",
        "        while self.q1:\n",
        "            self.q2.append(self.q1.pop(0))\n",
        "\n",
        "        self.q1, self.q2 = self.q2, self.q1\n",
        "\n",
        "    def pop(self):\n",
        "        if not self.q1:\n",
        "            return None\n",
        "        return self.q1.pop(0)\n",
        "\n",
        "    def top(self):\n",
        "        if not self.q1:\n",
        "            return None\n",
        "        return self.q1[0]\n",
        "\n",
        "    def is_empty(self):\n",
        "        return len(self.q1) == 0\n"
      ],
      "metadata": {
        "id": "5XW1tDByhqec"
      },
      "execution_count": null,
      "outputs": []
    },
    {
      "cell_type": "markdown",
      "source": [
        "# Queue05"
      ],
      "metadata": {
        "id": "yzjouddfh7y1"
      }
    },
    {
      "cell_type": "code",
      "source": [
        "class QueueUsingStacks:\n",
        "    def __init__(self):\n",
        "        self.stack1 = []\n",
        "        self.stack2 = []\n",
        "\n",
        "    def enqueue(self, x):\n",
        "        self.stack1.append(x)\n",
        "\n",
        "    def dequeue(self):\n",
        "        if not self.stack2:\n",
        "            while self.stack1:\n",
        "                self.stack2.append(self.stack1.pop())\n",
        "\n",
        "        if self.stack2:\n",
        "            return self.stack2.pop()\n",
        "        else:\n",
        "            return None\n"
      ],
      "metadata": {
        "id": "QsEFxhSViAYL"
      },
      "execution_count": null,
      "outputs": []
    },
    {
      "cell_type": "markdown",
      "source": [
        "# Queue06"
      ],
      "metadata": {
        "id": "0jYJTJPwiKQ5"
      }
    },
    {
      "cell_type": "markdown",
      "source": [
        "구현하고자 하는 Deque는 단방향원형리스트를 기반으로 한다.\n",
        "또한, 이 Deque의 front는 리스트의 맨 앞이며 tail은 리스트의 맨 끝으로 한다.\n",
        "enqueue()의 수행시간은 Deque의 front에서 수행할 시 Θ(1), Deque의 tail에서 수행할 시 Θ(1)이다. 따라서 수행 위치에 상관없이 enqueue()의 수행 시간은 Θ(1)이다.\n",
        "dequeue()의 수행시간은 Deque의 front에서 수행할 시 Θ(1), Deque의 tail에서 수행할 시 Θ(1)이다. 따라서 수행 위치에 상관없이 dequeue()의 수행 시간은 Θ(1)이다."
      ],
      "metadata": {
        "id": "MvNEV4GpiXgg"
      }
    },
    {
      "cell_type": "markdown",
      "source": [
        "# Queue07\n"
      ],
      "metadata": {
        "id": "t4YLA2S8ii8-"
      }
    },
    {
      "cell_type": "markdown",
      "source": [
        "구현하고자 하는 Deque는 단방향리스트를 기반으로 한다.\n",
        "또한, 이 Deque의 front는 리스트의 맨 앞이며 tail은 리스트의 맨 끝으로 한다.\n",
        "enqueue()의 수행시간은 Deque의 front에서 수행할 시 Θ(1), Deque의 tail에서 수행할 시 Θ(n)이다. 따라서 enqueue()의 수행 시간은 최악의 경우를 고려해 Θ(n)이다.\n",
        "dequeue()의 수행시간은 Deque의 front에서 수행할 시 Θ(1), Deque의 tail에서 수행할 시 Θ(n)이다. 따라서 dequeue()의 수행 시간은 최악의 경우를 고려해 Θ(n)이다."
      ],
      "metadata": {
        "id": "4rAQVVzAilgq"
      }
    },
    {
      "cell_type": "markdown",
      "source": [
        "# Queue08"
      ],
      "metadata": {
        "id": "rGjPlPSGjb69"
      }
    },
    {
      "cell_type": "code",
      "source": [
        "class Deque:\n",
        "    def __init__(self):\n",
        "        self.__queue = []\n",
        "\n",
        "    def enqueue_front(self, x):\n",
        "        self.__queue.insert(0, x)\n",
        "\n",
        "    def enqueue_rear(self, x):\n",
        "        self.__queue.append(x)\n",
        "\n",
        "    def dequeue_front(self):\n",
        "        if self.isEmpty():\n",
        "            return None\n",
        "        return self.__queue.pop(0)\n",
        "\n",
        "    def dequeue_rear(self):\n",
        "        if self.isEmpty():\n",
        "            return None\n",
        "        return self.__queue.pop()\n",
        "\n",
        "    def front(self):\n",
        "        if self.isEmpty():\n",
        "            return None\n",
        "        return self.__queue[0]\n",
        "\n",
        "    def rear(self):\n",
        "        if self.isEmpty():\n",
        "            return None\n",
        "        return self.__queue[-1]\n",
        "\n",
        "    def isEmpty(self) -> bool:\n",
        "        return len(self.__queue) == 0\n",
        "\n",
        "    def dequeueAll(self):\n",
        "        self.__queue.clear()\n",
        "\n",
        "    def printDeque(self):\n",
        "        print(\"Deque from front:\", end=' ')\n",
        "        for item in self.__queue:\n",
        "            print(item, end=' ')\n",
        "        print()\n"
      ],
      "metadata": {
        "id": "uhVd9usejfIb"
      },
      "execution_count": null,
      "outputs": []
    }
  ]
}